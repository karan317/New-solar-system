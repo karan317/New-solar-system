{
 "cells": [
  {
   "cell_type": "markdown",
   "metadata": {},
   "source": [
    "Importing the libraries"
   ]
  },
  {
   "cell_type": "code",
   "execution_count": 1,
   "metadata": {},
   "outputs": [
    {
     "ename": "ModuleNotFoundError",
     "evalue": "No module named 'matplotlib'",
     "output_type": "error",
     "traceback": [
      "\u001b[0;31m---------------------------------------------------------------------------\u001b[0m",
      "\u001b[0;31mModuleNotFoundError\u001b[0m                       Traceback (most recent call last)",
      "Cell \u001b[0;32mIn[1], line 3\u001b[0m\n\u001b[1;32m      1\u001b[0m \u001b[38;5;28;01mimport\u001b[39;00m \u001b[38;5;21;01mnumpy\u001b[39;00m \u001b[38;5;28;01mas\u001b[39;00m \u001b[38;5;21;01mnp\u001b[39;00m\n\u001b[1;32m      2\u001b[0m \u001b[38;5;28;01mfrom\u001b[39;00m \u001b[38;5;21;01mscipy\u001b[39;00m\u001b[38;5;21;01m.\u001b[39;00m\u001b[38;5;21;01mintegrate\u001b[39;00m \u001b[38;5;28;01mimport\u001b[39;00m solve_ivp,odeint\n\u001b[0;32m----> 3\u001b[0m \u001b[38;5;28;01mimport\u001b[39;00m \u001b[38;5;21;01mmatplotlib\u001b[39;00m\u001b[38;5;21;01m.\u001b[39;00m\u001b[38;5;21;01mpyplot\u001b[39;00m \u001b[38;5;28;01mas\u001b[39;00m \u001b[38;5;21;01mplt\u001b[39;00m\n",
      "\u001b[0;31mModuleNotFoundError\u001b[0m: No module named 'matplotlib'"
     ]
    }
   ],
   "source": [
    "import numpy as np\n",
    "from scipy.integrate import solve_ivp,odeint\n",
    "import matplotlib.pyplot as plt"
   ]
  },
  {
   "cell_type": "markdown",
   "metadata": {},
   "source": [
    "Defining Constants and reference quantities to make all further calculations dimensionless\n",
    "Here K1 and K2 are constants taken to make all quantities dimensionless\n",
    "Note : All the quanties in this project are taken in cgs units"
   ]
  },
  {
   "cell_type": "code",
   "execution_count": null,
   "metadata": {},
   "outputs": [],
   "source": [
    "#Define universal gravitation constant\n",
    "G = 6.67408e-11 #N-m2/kg2\n",
    "#Reference quantities\n",
    "m_nd = 1.989e+30\n",
    "r_nd = 147.1e+9\n",
    "v_nd = 29800\n",
    "t_nd = 365.2*24*3600\n",
    "# kg\n",
    "# m\n",
    "# m/s\n",
    "# s\n",
    "#mass of the sun\n",
    "#distance between sun and earth\n",
    "#relative velocity of earth around the sun\n",
    "#orbital period of Earth\n",
    "#Net constants\n",
    "K1 = G*t_nd*m_nd/(r_nd**2*v_nd)\n",
    "K2 = v_nd*t_nd/r_nd"
   ]
  },
  {
   "cell_type": "markdown",
   "metadata": {},
   "source": [
    "Now defining masses and velocties of all the bodies present in solar system and their distance from\n",
    "the Sun\n",
    "All the data are taken from the NASA website (https://nssdc.gsfc.nasa.gov/planetary/factsheet/)"
   ]
  },
  {
   "cell_type": "code",
   "execution_count": null,
   "metadata": {},
   "outputs": [],
   "source": [
    "# Define masses\n",
    "m1 = 1\n",
    "m2 = 0.33e+24/m_nd\n",
    "m3 = 4.87e+24/m_nd\n",
    "m4 = 5.97e+24/m_nd\n",
    "m5 = 0.642e+24/m_nd\n",
    "# Sun\n",
    "# Mercury\n",
    "# Venus\n",
    "# Earth\n",
    "# Mars\n",
    "\n",
    "m6 = 1898e+24/m_nd\n",
    "m7 = 568e+24/m_nd\n",
    "m8 = 86.8e+24/m_nd\n",
    "m9 = 102e+24/m_nd\n",
    "# Jupiter\n",
    "# Saturn\n",
    "# Uranus\n",
    "# Neptune\n",
    "masses = np.array([m1,m2,m3,m4,m5,m6,m7,m8,m9])\n",
    "#Define initial position vectors\n",
    "r1 = np.array([0,0,0]) # Sun\n",
    "r2 = np.array([57.9e+9/r_nd,0,0])\n",
    "r3 = np.array([108.2e+9/r_nd,0,0])\n",
    "r4 = np.array([1,0,0]) # Earth\n",
    "r5 = np.array([228e+9/r_nd,0,0])\n",
    "r6 = np.array([778.5e+9/r_nd,0,0])\n",
    "r7 = np.array([1432e+9/r_nd,0,0])\n",
    "r8 = np.array([2867e+9/r_nd,0,0])\n",
    "r9 = np.array([4515e+9/r_nd,0,0])\n",
    "#Define initial velocities\n",
    "v1 = np.array([0,0,0])\n",
    "v2 = np.array([0,47.4e+3/v_nd,0])\n",
    "v3 = np.array([0,35e+3/v_nd,0])\n",
    "v4 = np.array([0,1,0]) #m/s\n",
    "v5 = np.array([0,24.1e+3/v_nd,0])\n",
    "v6 = np.array([0,13.1e+3/v_nd,0])\n",
    "v7 = np.array([0,9.7e+3/v_nd,0])\n",
    "v8 = np.array([0,6.8e+3/v_nd,0])\n",
    "v9 = np.array([0,5.4e+3/v_nd,0])\n",
    "#Find Position of Centre of Mass\n",
    "r_com=(m1*r1+m2*r2+m3*r3+m4*r4+m5*r5+m6*r6+m7*r7+m8*r8+m9*r9)/(m1+m2+m3+m4+m5+m6+m7+m8+m9)\n",
    "#Find velocity of COM\n",
    "v_com=(m1*v1+m2*v2+m3*v3+m4*v4+m5*v5+m6*v6+m7*v7+m8*v8+m9*v9)/(m1+m2+m3+m4+m5+m6+m7+m8+m9)\n",
    "print(\"Position of center of mass of Solar System : \",r_com, \"AU\")\n",
    "print(\"Velocity of center of mass of Solar System : \",v_com*v_nd, \"m/s\")"
   ]
  },
  {
   "cell_type": "markdown",
   "metadata": {},
   "source": [
    "Now Defining a function which takes all these quantities of planetary bodies and provide the\n",
    "deriveties as an output to be used fro intergration\n",
    "Steps involved in this are as following:-\n",
    "First check number of masses which will provide the number of bodies provide for the calculation\n",
    "Then make 2D array of distances (r) of all these bodies with dimension = 𝑛𝑢𝑚𝑏𝑒𝑟 𝑜𝑓 𝑏𝑜𝑑𝑖𝑒𝑠 × 3\n",
    "After that a 3D array is created to find the distance between these bodies with each other Later this\n",
    "3D array of differene is norm that can be used the in the formula to calulate the net acceleration\n",
    "on each body due to gravitational force from the othe bodies\n",
    "The formula used here to calulate the net acceleration here is -\n",
    "𝑖\n",
    "𝑚𝑖 𝑑𝑣\n",
    "𝑑𝑡 = 𝐾1 ∑𝑗\n",
    "𝑚𝑖 𝑚𝑗\n",
    "𝑟𝑖𝑗\n",
    "3\n",
    "𝑟𝑖𝑗\n",
    "and for net velocity -\n",
    "𝑑𝑥𝑖\n",
    "𝑑𝑡 = 𝐾2 𝑣𝑖\n",
    "Then finally all the derivatives are flatten so the ode solver have 1 dimension input array only."
   ]
  },
  {
   "cell_type": "code",
   "execution_count": null,
   "metadata": {},
   "outputs": [],
   "source": [
    "def NBodyEquations(t,w,G,masses):\n",
    "    num_bodies = len(masses)\n",
    "    r = w[:num_bodies*3].reshape((num_bodies,3))\n",
    "    v = w[num_bodies*3:].reshape((num_bodies,3))\n",
    "    r_diff = r[np.newaxis, :, :] - r[:, np.newaxis, :]\n",
    "    r_norm = np.linalg.norm(r_diff,axis=2)\n",
    "    r_norm_cube = r_norm**3\n",
    "    v_derivs = np.zeros([num_bodies,3])\n",
    "    for row in range(num_bodies):\n",
    "        for col in range(num_bodies):\n",
    "            if col!=row:\n",
    "                v_derivs[row] += masses[col]*r_diff[row,col,:]/r_norm_cube[row,col]\n",
    "    v_derivs = K1*v_derivs\n",
    "    r_derivs = K2*v\n",
    "    derivs = np.concatenate((r_derivs.flatten(),v_derivs.flatten()))\n",
    "    return derivs"
   ]
  },
  {
   "cell_type": "markdown",
   "metadata": {},
   "source": [
    "Defining input parameters and time span for the ode to solve\n",
    "Here 100 orbital periods are taken"
   ]
  },
  {
   "cell_type": "code",
   "execution_count": null,
   "metadata": {},
   "outputs": [],
   "source": [
    "init_params=np.array([r1,r2,r3,r4,r5,r6,r7,r8,r9,v1,v2,v3,v4,v5,v6,v7,v8,v9]) #create array of initial params\n",
    "init_params=init_params.flatten() #flatten array to make it 1D\n",
    "time_span = [0, 100] # 100 orbitals = 100 years\n",
    "t_eval = np.linspace(time_span[0], time_span[1], 5000) # step = 100*365.2/5000= 7.304 days\n",
    "N_body_sol = solve_ivp(NBodyEquations, time_span, init_params, args=(G,masses),rtol=1e-10,atol=1e-15,t_eval=t_eval)\n",
    "R_sol = N_body_sol.y # taking the values of postions of bodies\n",
    "print(\"Duration for which the solver evaluate the equaition = \",time_span[1],\"years\")\n",
    "print(\"One step in solver = \",time_span[1]*356.2/5000, \"days\")"
   ]
  },
  {
   "cell_type": "markdown",
   "metadata": {},
   "source": [
    "Ploting the 3D figure to see the positions of the bodies"
   ]
  },
  {
   "cell_type": "code",
   "execution_count": null,
   "metadata": {},
   "outputs": [],
   "source": [
    "#Create figure\n",
    "fig=plt.figure(figsize=(15,15))\n",
    "#Create 3D axes\n",
    "ax=fig.add_subplot(111,projection=\"3d\")\n",
    "Colors = [\"yellow\",\"tab:green\",\"tab:purple\",\"tab:blue\",\"tab:red\",\"tab:orange\",\"tab:pink\",\"tab:cyan\",\"tab:brown\",\"tab:gray\"]\n",
    "Label =[\"Sun\",\"Mercury\",\"Venus\",\"Earth\",\"Mars\",\"Jupiter\",\"Saturn\",\"Uranus\",\"Neptune\",\"Star\"]\n",
    "#Plot the orbits\n",
    "for i in range(len(masses)):\n",
    "    ax.plot(R_sol[3*i],R_sol[3*i +1],R_sol[3*i+2],color = Colors[i])\n",
    "    ax.scatter(R_sol[3*i][-1],R_sol[3*i +1][-1],R_sol[3*i+2][-1],color =Colors[i],marker=\"o\",s=100,label=Label[i])\n",
    "ax.set_xlabel(\"x-coordinate\",fontsize=14)\n",
    "ax.set_ylabel(\"y-coordinate\",fontsize=14)\n",
    "ax.set_zlabel(\"z-coordinate\",fontsize=14)\n",
    "ax.set_title(\"Visualization of orbits of planets in the solar system\\n\",fontsize=14)\n",
    "ax.legend(loc=\"upper left\",fontsize=14)"
   ]
  }
 ],
 "metadata": {
  "kernelspec": {
   "display_name": "Python 3 (ipykernel)",
   "language": "python",
   "name": "python3"
  },
  "language_info": {
   "codemirror_mode": {
    "name": "ipython",
    "version": 3
   },
   "file_extension": ".py",
   "mimetype": "text/x-python",
   "name": "python",
   "nbconvert_exporter": "python",
   "pygments_lexer": "ipython3",
   "version": "3.10.12"
  }
 },
 "nbformat": 4,
 "nbformat_minor": 4
}
